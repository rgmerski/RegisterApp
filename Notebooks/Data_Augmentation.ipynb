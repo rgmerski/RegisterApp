{
  "nbformat": 4,
  "nbformat_minor": 0,
  "metadata": {
    "colab": {
      "name": "Data Augmentation.ipynb",
      "provenance": [],
      "collapsed_sections": [],
      "toc_visible": true,
      "include_colab_link": true
    },
    "kernelspec": {
      "name": "python3",
      "display_name": "Python 3"
    },
    "language_info": {
      "name": "python"
    },
    "accelerator": "GPU"
  },
  "cells": [
    {
      "cell_type": "markdown",
      "metadata": {
        "id": "view-in-github",
        "colab_type": "text"
      },
      "source": [
        "<a href=\"https://colab.research.google.com/github/rgmerski/RegisterApp/blob/master/Notebooks/Data_Augmentation.ipynb\" target=\"_parent\"><img src=\"https://colab.research.google.com/assets/colab-badge.svg\" alt=\"Open In Colab\"/></a>"
      ]
    },
    {
      "cell_type": "markdown",
      "metadata": {
        "id": "a6V1rGTZ21mJ"
      },
      "source": [
        "# Początkowe rozmyślenia:\n",
        "\n",
        "\n",
        "*   objekty - z granicami czy bez?\n",
        "*   kilka obiektów - rozdzielone? \n",
        "*   kolory\n",
        "\n",
        "* bardziej skomplikowane figury (obiekty)\n",
        "\n"
      ]
    },
    {
      "cell_type": "markdown",
      "metadata": {
        "id": "6kYSR5oNulu8"
      },
      "source": [
        "# 1. Przygotowanie środowiska"
      ]
    },
    {
      "cell_type": "markdown",
      "metadata": {
        "id": "mS379YnUJV06"
      },
      "source": [
        "Sprawdzanie podłączenia GPU"
      ]
    },
    {
      "cell_type": "code",
      "metadata": {
        "colab": {
          "base_uri": "https://localhost:8080/"
        },
        "id": "-8QUVaNSJUsJ",
        "outputId": "f588d158-d57a-48d2-b8ef-c859d4278bf9"
      },
      "source": [
        "%tensorflow_version 2.x\n",
        "import matplotlib.pyplot as plt\n",
        "import numpy as np\n",
        "import os\n",
        "import PIL\n",
        "import tensorflow as tf\n",
        "\n",
        "from tensorflow import keras\n",
        "from tensorflow.keras import layers\n",
        "from tensorflow.keras.models import Sequential\n",
        "from keras.preprocessing.image import ImageDataGenerator\n",
        "from keras.models import Sequential\n",
        "from keras.layers import Conv2D, MaxPooling2D\n",
        "from keras.layers import Activation, Dropout, Flatten, Dense\n",
        "device_name = tf.test.gpu_device_name()\n",
        "if device_name != '/device:GPU:0':\n",
        "  raise SystemError('GPU device not found')\n",
        "print('Found GPU at: {}'.format(device_name))"
      ],
      "execution_count": null,
      "outputs": [
        {
          "output_type": "stream",
          "text": [
            "Found GPU at: /device:GPU:0\n"
          ],
          "name": "stdout"
        }
      ]
    },
    {
      "cell_type": "code",
      "metadata": {
        "colab": {
          "base_uri": "https://localhost:8080/",
          "height": 35
        },
        "id": "lV0AP36xNLId",
        "outputId": "8423d113-da3e-4496-a67c-75ecdf906008"
      },
      "source": [
        "tf.__version__"
      ],
      "execution_count": null,
      "outputs": [
        {
          "output_type": "execute_result",
          "data": {
            "application/vnd.google.colaboratory.intrinsic+json": {
              "type": "string"
            },
            "text/plain": [
              "'2.4.1'"
            ]
          },
          "metadata": {
            "tags": []
          },
          "execution_count": 2
        }
      ]
    },
    {
      "cell_type": "markdown",
      "metadata": {
        "id": "14dx5dA6uwM-"
      },
      "source": [
        "# 2. Data Augmentation"
      ]
    },
    {
      "cell_type": "markdown",
      "metadata": {
        "id": "ZCDloBpptUUe"
      },
      "source": [
        "Data Augumentation - wykonać raz po dodaniu podstawowych danych.\n",
        "7 kolorów trójkątów, kwadratów oraz kół.\n",
        "Planowane zmiany w zdjęciach - datagen. \n",
        "Odnośnie klas z wieloma/x objektami - nie wiem, czy objekty powinny się na siebie nakładać."
      ]
    },
    {
      "cell_type": "markdown",
      "metadata": {
        "id": "oEj-ywztvM_3"
      },
      "source": [
        "[Dokumentacja ImageDataGenerator - Keras](https://keras.io/api/preprocessing/image/#imagedatagenerator-class)"
      ]
    },
    {
      "cell_type": "markdown",
      "metadata": {
        "id": "VZiB-pcyvbl6"
      },
      "source": [
        "## 2.1. Wczytanie podstawowego datasetu (bez DA) w celu dodania zedytowanych obrazów"
      ]
    },
    {
      "cell_type": "markdown",
      "metadata": {
        "id": "Q8rFn0wRvyIW"
      },
      "source": [
        "[Dokumentacja image_dataset_from_directory](https://keras.io/api/preprocessing/image/#imagedatasetfromdirectory-function)"
      ]
    },
    {
      "cell_type": "code",
      "metadata": {
        "colab": {
          "base_uri": "https://localhost:8080/"
        },
        "id": "HKQYk0UgxMkT",
        "outputId": "1f119b4c-22b0-4148-84fd-a7e5ec80ebab"
      },
      "source": [
        "from google.colab import drive\n",
        "drive.mount('/content/drive')"
      ],
      "execution_count": null,
      "outputs": [
        {
          "output_type": "stream",
          "text": [
            "Drive already mounted at /content/drive; to attempt to forcibly remount, call drive.mount(\"/content/drive\", force_remount=True).\n"
          ],
          "name": "stdout"
        }
      ]
    },
    {
      "cell_type": "code",
      "metadata": {
        "colab": {
          "base_uri": "https://localhost:8080/"
        },
        "id": "WhwREfpEwMKm",
        "outputId": "08aa7072-0804-4250-d415-edfe0f103c6a"
      },
      "source": [
        "dataset = tf.keras.preprocessing.image_dataset_from_directory(\n",
        "    '/content/drive/MyDrive/dataset', \n",
        "    labels='inferred',\n",
        "    label_mode=\"categorical\",\n",
        "    batch_size=16\n",
        "    )"
      ],
      "execution_count": null,
      "outputs": [
        {
          "output_type": "stream",
          "text": [
            "Found 4718 files belonging to 6 classes.\n"
          ],
          "name": "stdout"
        }
      ]
    },
    {
      "cell_type": "code",
      "metadata": {
        "id": "UBTpsAMiGbzW"
      },
      "source": [
        "classes = [1, 2, 3, 4, 5, 6]"
      ],
      "execution_count": null,
      "outputs": []
    },
    {
      "cell_type": "markdown",
      "metadata": {
        "id": "LioXtzu9_Lfu"
      },
      "source": [
        "usuwanie zaugmentowanych:"
      ]
    },
    {
      "cell_type": "code",
      "metadata": {
        "id": "98dn1OMa_PTA"
      },
      "source": [
        "import os, glob\n",
        "for filename in glob.glob(\"/content/drive/MyDrive/dataset/1/aug*\"):\n",
        "    os.remove(filename) "
      ],
      "execution_count": null,
      "outputs": []
    },
    {
      "cell_type": "markdown",
      "metadata": {
        "id": "weKopAu5Gv6P"
      },
      "source": [
        "##2.2. Usuwanie zaugumentowanych (wszystkie klasy)"
      ]
    },
    {
      "cell_type": "code",
      "metadata": {
        "id": "2rkS2BG7GygT"
      },
      "source": [
        "import os, glob\n",
        "\n",
        "for cls in classes:\n",
        "  for filename in glob.glob(\"/content/drive/MyDrive/dataset/\" + str(cls) + \"/aug*\"):\n",
        "      os.remove(filename) "
      ],
      "execution_count": null,
      "outputs": []
    },
    {
      "cell_type": "markdown",
      "metadata": {
        "id": "ZlxZBXw-Yzr2"
      },
      "source": [
        "ilość zaugmentowanych:"
      ]
    },
    {
      "cell_type": "code",
      "metadata": {
        "colab": {
          "base_uri": "https://localhost:8080/"
        },
        "id": "3utNEZdJUARL",
        "outputId": "cd946fa7-4652-469a-b46d-403e58583730"
      },
      "source": [
        "import os, glob\n",
        "n=0\n",
        "for cls in classes:\n",
        "  for filename in glob.glob(\"/content/drive/MyDrive/dataset/\" + str(cls) + \"/aug*\"):\n",
        "     n+=1\n",
        "print(n)"
      ],
      "execution_count": null,
      "outputs": [
        {
          "output_type": "stream",
          "text": [
            "3350\n"
          ],
          "name": "stdout"
        }
      ]
    },
    {
      "cell_type": "markdown",
      "metadata": {
        "id": "4Co6ZqY1jf7m"
      },
      "source": [
        "## 2.3. Pobieranie ścieżek obrazów w celu ich edycji"
      ]
    },
    {
      "cell_type": "code",
      "metadata": {
        "id": "1A2cmSoy7GPd"
      },
      "source": [
        "from tensorflow.keras.preprocessing.image import img_to_array\n",
        "from tensorflow.keras.preprocessing.image import load_img\n",
        "import os\n",
        "import numpy as np"
      ],
      "execution_count": null,
      "outputs": []
    },
    {
      "cell_type": "code",
      "metadata": {
        "id": "X4-Zt5uwIU_t"
      },
      "source": [
        "# tworzenie list ścieżek do danych\n",
        "# paths - lista list, np paths[0] -> path_1 nizej\n",
        "\n",
        "paths = []\n",
        "\n",
        "for cls in classes:\n",
        "\n",
        "  path_temp = []\n",
        "  directory = r'/content/drive/MyDrive/dataset/' + str(cls)\n",
        "\n",
        "  # skanuj w poszukiwaniu obrazów, dodawaj ich ścieżkę do path_temp\n",
        "  for entry in os.scandir(directory):\n",
        "    if (entry.path.endswith(\".png\") or entry.path.endswith(\".jpg\")) and entry.is_file():\n",
        "        #print(entry.path)\n",
        "        path_temp.append(entry.path)\n",
        "  paths.append(path_temp[:])\n",
        "\n",
        "#paths[x] - ścieżki do plików, gdzie x-iteracja po klasach (od zera), przykładowo:\n",
        "#paths[0] - pierwsza klasa z listy classes, tutaj - 1\n",
        "#paths[x] - ścieżki do classes[x]\n"
      ],
      "execution_count": null,
      "outputs": []
    },
    {
      "cell_type": "markdown",
      "metadata": {
        "id": "hNPy1mrxYJ58"
      },
      "source": [
        "**NIE MOŻNA URUCHOMIĆ PONIŻSZEGO KODU!!! Zapisanie wszystkich aktualnych obrazków w formie tabeli wymaga większych zasobów RAM**\n",
        "Chciałem zautomatyzować wszystko, by można było na raz wszystko uczynić, lecz niestety. Sam proces augmentacji wymaga podzielenia na kilka części."
      ]
    },
    {
      "cell_type": "code",
      "metadata": {
        "id": "dR7KDjjfSot-"
      },
      "source": [
        "#NIE MOŻNA TEGO URUCHOMIĆ, ZA MAŁO RAM!!!!!!!!\n",
        "#images = []\n",
        "\n",
        "# iteracja po listach - path_ kolejne listy ze ścieżkami, p - ścieżki\n",
        "#for path_ in paths:\n",
        "  \n",
        "#  images_temp = []\n",
        "#------------------------------------------  \n",
        "  #for p in path_:\n",
        "   # image = load_img(p)\n",
        "   # image = img_to_array(image)\n",
        "   # image = np.expand_dims(image, axis = 0)\n",
        "   # images_temp.append(image)\n",
        "\n",
        " # images.append(images_temp[:])\n",
        "#-------------------------------------------"
      ],
      "execution_count": null,
      "outputs": []
    },
    {
      "cell_type": "code",
      "metadata": {
        "id": "mE01hu3mZWI5"
      },
      "source": [
        "'''\n",
        "image_array(images, n)\n",
        "PARAMS:\n",
        "images - lista, do której funkcja wpisuje obrazy w formie tablic z wcześniej uzyskanych ścieżek plików (paths)\n",
        "n - która lista ze ścieżkami do obrazów, czyli nr klasy pomniejszony o 1 (poprawne wyłuskanie informacji z listy paths)\n",
        "'''\n",
        "def image_array(images, n):\n",
        "  for p in paths[n]:\n",
        "    #print(p)\n",
        "    image = load_img(p)\n",
        "    image = img_to_array(image)\n",
        "    image = np.expand_dims(image, axis = 0)\n",
        "    images.append(image)"
      ],
      "execution_count": null,
      "outputs": []
    },
    {
      "cell_type": "markdown",
      "metadata": {
        "id": "NYafKmOij9So"
      },
      "source": [
        "## 2.4. Augmentacja"
      ]
    },
    {
      "cell_type": "code",
      "metadata": {
        "id": "yDABN3kNvtuQ"
      },
      "source": [
        "datagen_1 = ImageDataGenerator(\n",
        "    rescale=1. / 255,\n",
        "    shear_range=0.2,\n",
        "    zoom_range=0.1,\n",
        "    rotation_range=90,\n",
        "    width_shift_range=0.05,\n",
        "    height_shift_range=0.05,\n",
        "    horizontal_flip=True,\n",
        "    #vertical_flip=True\n",
        "    )\n"
      ],
      "execution_count": null,
      "outputs": []
    },
    {
      "cell_type": "code",
      "metadata": {
        "id": "IDmgEpH1HIRs"
      },
      "source": [
        "datagen_more = ImageDataGenerator(\n",
        "    rescale=1. / 255,\n",
        "    shear_range=0.15,\n",
        "    zoom_range=0.05,\n",
        "    rotation_range=90,\n",
        "    #width_shift_range=0.05,\n",
        "    #height_shift_range=0.05,\n",
        "    #horizontal_flip=True,\n",
        "    #vertical_flip=True\n",
        "    )\n"
      ],
      "execution_count": null,
      "outputs": []
    },
    {
      "cell_type": "code",
      "metadata": {
        "id": "Q4VL4C6thMGn"
      },
      "source": [
        "'''\n",
        "DA(augs, images_, folder)\n",
        "Dokonuje augmentacji na podstawie generatora datagen (pomniejsze zmiany aby nie zniszczyć zbytnio danych dla datagen_more) i od razu je zapisuje, możliwość czyszczenia RAM\n",
        "PARAMS:\n",
        "augs - ilość augmentacji na zdjęcie\n",
        "images - tablica zawierająca informacje o zdjęciach\n",
        "folder - zapis (klasa zdjęć)\n",
        "mozna dodać różne generatory\n",
        "'''\n",
        "def DA(augs, images_, folder, datagen=datagen_more):\n",
        "  for image in images_:\n",
        "    temp = '/content/drive/MyDrive/dataset/' + str(folder)\n",
        "    imageGen = datagen.flow(image, batch_size=1, save_to_dir=temp, save_prefix='aug', save_format=\"png\")\n",
        "    total = 0\n",
        "    for img in imageGen:\n",
        "      total += 1\n",
        "      if total == augs:\n",
        "        break\n",
        "  images_ = []"
      ],
      "execution_count": null,
      "outputs": []
    },
    {
      "cell_type": "markdown",
      "metadata": {
        "id": "uFpUodYFeXFT"
      },
      "source": [
        "ABY ZMIEŚCIĆ SIĘ W MOŻLIWEJ POJEMNOŚCI PAMĘCI RAM"
      ]
    },
    {
      "cell_type": "code",
      "metadata": {
        "id": "dSACS81EeiLt"
      },
      "source": [
        "images_2 = []\n",
        "image_array(images_2, 1)"
      ],
      "execution_count": null,
      "outputs": []
    },
    {
      "cell_type": "code",
      "metadata": {
        "id": "c_gdhwwwimmj"
      },
      "source": [
        "DA(2, images_2, 2)\n",
        "images_2 = []"
      ],
      "execution_count": null,
      "outputs": []
    },
    {
      "cell_type": "code",
      "metadata": {
        "id": "GB8ctR_Ok8BN"
      },
      "source": [
        "images_3 = []\n",
        "image_array(images_3, 2)\n",
        "\n",
        "DA(2, images_3, 3)\n",
        "images_3 = []\n",
        "\n",
        "\n",
        "images_4 = []\n",
        "image_array(images_4, 3)\n",
        "\n",
        "DA(2, images_4, 4)\n",
        "images_4 = []\n",
        "\n",
        "\n",
        "images_5 = []\n",
        "image_array(images_5, 4)\n",
        "\n",
        "DA(2, images_5, 5)\n",
        "images_5 = []\n",
        "\n",
        "\n",
        "images_6 = []\n",
        "image_array(images_6, 5)\n",
        "\n",
        "DA(2, images_6, 6)\n",
        "images_6 = []\n",
        "\n"
      ],
      "execution_count": null,
      "outputs": []
    },
    {
      "cell_type": "markdown",
      "metadata": {
        "id": "p4RoNQA4YAOV"
      },
      "source": [
        "Budowa nazwy plików: \n",
        "* aug_ - zaugmentowane dane\n",
        "* aug_x_ - dane zaugmentowane z ran_x\n",
        "* aug_ - dane zaugmentowane z bazowych figur\n",
        "* ran_x - losowe figury wygenerowane przy pomocy kodu\n"
      ]
    },
    {
      "cell_type": "markdown",
      "metadata": {
        "id": "P56gQKsOuvqG"
      },
      "source": [
        "Kod niżej - testowy! Sprawdzałem zgodność plików, gdyż kilka obrazów w klasie pierwszej stworzyłem ręcznie."
      ]
    },
    {
      "cell_type": "code",
      "metadata": {
        "id": "w5019SUL9QqK"
      },
      "source": [
        "augs = 5\n",
        "images_1 = []\n",
        "image_array(images_1, 0)\n",
        "# w celu rozpoznania początkowego - iterator\n",
        "real = 0\n",
        "real_it = 0\n",
        "\n",
        "total = 0\n",
        "for image in images_1:\n",
        "\n",
        "  if real_it > 20:\n",
        "    temp = 'aug_' + str(real)\n",
        "    imageGen = datagen_1.flow(image, batch_size=1, save_to_dir='/content/drive/MyDrive/dataset/1', save_prefix=temp, save_format=\"png\")\n",
        "    real += 1\n",
        "  else:\n",
        "    imageGen = datagen_1.flow(image, batch_size=1, save_to_dir='/content/drive/MyDrive/dataset/1', save_prefix='aug', save_format=\"png\")\n",
        "  \n",
        "  real_it += 1\n",
        "  total = 0\n",
        "  \n",
        "  for img in imageGen:\n",
        "    total += 1\n",
        "    if total == augs:\n",
        "      break\n",
        "images_1 = []"
      ],
      "execution_count": null,
      "outputs": []
    }
  ]
}